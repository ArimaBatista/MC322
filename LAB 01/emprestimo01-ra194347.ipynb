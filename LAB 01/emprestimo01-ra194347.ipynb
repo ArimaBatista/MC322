{
  "nbformat": 4,
  "nbformat_minor": 0,
  "metadata": {
    "kernelspec": {
      "display_name": "C",
      "language": "c",
      "name": "c"
    },
    "language_info": {
      "file_extension": ".c",
      "mimetype": "text/plain",
      "name": "c"
    },
    "colab": {
      "name": "emprestimo01.ipynb",
      "provenance": [],
      "collapsed_sections": []
    }
  },
  "cells": [
    {
      "cell_type": "markdown",
      "metadata": {
        "id": "r4uvwvBtoDOU"
      },
      "source": [
        "# Memória, Variáveis, Comunicação e Estado de um Programa\n",
        "\n",
        "Há várias possíveis estratégias para usar a memória de um computador para se realizar a comunicação entre partes dele -- por exemplo, entre duas funções -- e para se manter o **estado atual** de execução de um programa. Dentre elas, podemos destacar o uso de variáveis locais, globais e parâmetros entre funções.\n",
        "\n",
        "Vamos fazer aqui um exercício nesse contexto e você será conduzido a experimentar cada uma dessas estratégias, mesmo que em algumas ocasiões não seja a forma recomendada de se desenvolver um programa.\n",
        "\n",
        "\n",
        "# Exercício do Empréstimo\n",
        "\n",
        "Em um financiamento com juros compostos e número de parcelas fixas parte-se dos seguintes parâmetros:\n",
        "* `S` - valor da primeira parcela\n",
        "* `N` - número de parcelas\n",
        "* `J` - percentual de juros mensal\n",
        "\n",
        "A primeira parcela a ser paga do financiamento é sempre igual a `S`. A partir daí é feita uma atualização mensal da parcela, em que cada nova parcela é calculada a partir da parcela do mês anterior, conforme a fórmula:\n",
        "\n",
        "> #### Parcela<sub>mês</sub> = Parcela<sub>mês-1</sub> * (1 + `J` / 100)\n",
        "\n",
        "O financiamento encerra quando as `N` parcelas são pagas.\n",
        "\n",
        "Exemplo:\n",
        "* `S`: 200\n",
        "* `N`: 5\n",
        "* `J`: 1%\n",
        "\n",
        "Parcelas do financiamento:\n",
        "`200`; `202`; `204.02`; `206.06`; `208.12`"
      ]
    },
    {
      "cell_type": "markdown",
      "metadata": {
        "id": "yWcBiBdYoDOW"
      },
      "source": [
        "## Exercício Parte 1 - Escrevendo um Módulo\n",
        "\n",
        "Dado o problema descrito, escreva um programa que calcule as parcelas de um empréstimo para os seguintes valores:\n",
        "* `S`: 200\n",
        "* `N`: 5\n",
        "* `J`: 1%"
      ]
    },
    {
      "cell_type": "code",
      "metadata": {
        "trusted": true,
        "id": "Q88G3gOHoDOX",
        "outputId": "b4246da1-b5cc-4f1c-e903-dbc73952b72e"
      },
      "source": [
        "#include <stdio.h>\n",
        "\n",
        "int main()\n",
        "{\n",
        "    int n = 5;\n",
        "    float j = 1;\n",
        "    float s = 200;\n",
        "    j = j/100;\n",
        "    printf(\"A parcela 1 é igaul a %f\\n\" ,s);\n",
        "    for (int i= 2; i <=n; i++)\n",
        "    {\n",
        "        s = s +(s*j);\n",
        "        printf(\"A parcela %d é igaul a %f\\n\",i ,s);\n",
        "    }\n",
        "}"
      ],
      "execution_count": null,
      "outputs": [
        {
          "output_type": "stream",
          "text": [
            "A parcela 1 é igaul a 200.000000\n",
            "A parcela 2 é igaul a 202.000000\n",
            "A parcela 3 é igaul a 204.020004\n",
            "A parcela 4 é igaul a 206.060211\n",
            "A parcela 5 é igaul a 208.120819\n"
          ],
          "name": "stdout"
        }
      ]
    },
    {
      "cell_type": "markdown",
      "metadata": {
        "id": "cMyvESayoDOY"
      },
      "source": [
        "## Exercício Parte 2 - Escrevendo um Módulo (Função)\n",
        "\n",
        "Reescreva o código acima de forma que seu programa faça uso de uma função `proximaParcela` que seja responsável pelo cálculo de uma única parcela X do empréstimo. Utilize as boas práticas de modularização que você aprendeu, evitando dependências do módulo com o programa principal. A função deve apenas calcular uma única parcela, portanto, ficará a cargo da função principal que chama `proximaParcela` realizar o restante do processo, para que sejam apresentadas todas as parcelas do financiamento."
      ]
    },
    {
      "cell_type": "code",
      "metadata": {
        "trusted": true,
        "id": "kae_r9PHoDOY",
        "outputId": "a3060ebc-4a07-452a-a8de-c38a75944f2a"
      },
      "source": [
        "#include <stdio.h>\n",
        "void proximaParcela(int d, float s, float j)\n",
        "{\n",
        "  for (int i= 2; i <=d; i++)\n",
        "  {\n",
        "    s = s +(s*j);\n",
        "  }\n",
        "  printf(\"A parcela %d é igaul a %f\\n\",d ,s);\n",
        "}\n",
        "\n",
        "int main()\n",
        "{\n",
        "    int n = 5;\n",
        "    float j = 1;\n",
        "    j = j/100;\n",
        "    float s = 200;\n",
        "    for (int d = 1; d <= n; d++)\n",
        "      {\n",
        "        proximaParcela(d,s,j);\n",
        "        //printf(\"A parcela test %d é igaul a %f\\n\",d ,s);\n",
        "      }\n",
        "}\n"
      ],
      "execution_count": null,
      "outputs": [
        {
          "output_type": "stream",
          "text": [
            "A parcela 1 é igaul a 200.000000\n",
            "A parcela 2 é igaul a 202.000000\n",
            "A parcela 3 é igaul a 204.020004\n",
            "A parcela 4 é igaul a 206.060211\n",
            "A parcela 5 é igaul a 208.120819\n"
          ],
          "name": "stdout"
        }
      ]
    },
    {
      "cell_type": "markdown",
      "metadata": {
        "id": "v815uV_UoDOZ"
      },
      "source": [
        "## Exercício Parte 3 - Mantendo o Estado\n",
        "\n",
        "Modifique a função (módulo) `proximaParcela` acima de modo que ela tenha uma memória da situação em que estão as coisas, sem que o `main` precise ficar informando novamente coisas que já informou no início. Para isso serão permitidas as seguintes modificações:\n",
        "\n",
        "1. você pode desmembrar a função em mais de uma, por exemplo, uma você chama no começo do empréstimo e outra a cada parcela;\n",
        "\n",
        "2. você pode usar técnicas de uso de variáveis não recomendadas que geram dependência dos módulos com o programa principal.\n",
        "\n",
        "Você deve organizar o código de tal maneira que o `main` informe para as funções os dados do financiamento apenas uma única vez e depois possa solicitar o cálculo da parcela subsequente sem informar tudo novamente."
      ]
    },
    {
      "cell_type": "code",
      "metadata": {
        "trusted": true,
        "id": "7nMttuK9oDOZ",
        "outputId": "da3d334a-1fd7-421e-f570-0d054090b4c8"
      },
      "source": [
        "#include <stdio.h>\n",
        "float proximaParcela(int d, float s, float j)\n",
        "{\n",
        "  s = s +(s*j);\n",
        "  return s;\n",
        "}\n",
        "\n",
        "int main()\n",
        "{\n",
        "    int n = 5;\n",
        "    float j = 1;\n",
        "    j = j/100;\n",
        "    float s = 200;\n",
        "    for (int d = 1; d <= n; d++)\n",
        "      {\n",
        "        printf(\"A parcela %d é igaul a %f\\n\",d ,s);\n",
        "        s = proximaParcela(d,s,j);\n",
        "      }\n",
        "}\n",
        "\n"
      ],
      "execution_count": null,
      "outputs": [
        {
          "output_type": "stream",
          "text": [
            "A parcela 1 é igaul a 200.000000\n",
            "A parcela 2 é igaul a 202.000000\n",
            "A parcela 3 é igaul a 204.020004\n",
            "A parcela 4 é igaul a 206.060211\n",
            "A parcela 5 é igaul a 208.120819\n"
          ],
          "name": "stdout"
        }
      ]
    },
    {
      "cell_type": "markdown",
      "metadata": {
        "id": "HpOs813soDOZ"
      },
      "source": [
        "## Exercício Parte 4 - Minimizando os Parâmetros\n",
        "\n",
        "Retomando a solução da `Parte 2`, em que a função `main` deve ter usado vários parâmetros para a comunicação com a função `proximaParcela`,  modifique a forma como você representa o empréstimo, de forma que a função `proximaParcela` receba sempre um único parâmetro capaz de representar o estado completo do empréstimo."
      ]
    },
    {
      "cell_type": "code",
      "metadata": {
        "id": "a-O1eBh2oDOa"
      },
      "source": [
        "#include <stdio.h>\n",
        "typedef struct\n",
        "{\n",
        "  int n;\n",
        "  float s;\n",
        "  float j;\n",
        "} caso;\n",
        "\n",
        "caso proximaParcela(caso legal)\n",
        "{\n",
        "  legal.s = legal.s +(legal.s*legal.j);\n",
        "  return legal;\n",
        "}\n",
        "\n",
        "int main()\n",
        "{\n",
        "  caso emprestimo;\n",
        "  emprestimo.n = 5;\n",
        "  emprestimo.j = 1;\n",
        "  emprestimo.s = 200;\n",
        "  emprestimo.j = emprestimo.j/100;\n",
        "  for (int d = 1; d <= emprestimo.n; d++)\n",
        "  {\n",
        "    printf(\"A parcela %d é igaul a %f\\n\",d ,emprestimo.s);\n",
        "    emprestimo = proximaParcela(emprestimo);\n",
        "  }\n",
        "}\n"
      ],
      "execution_count": null,
      "outputs": []
    },
    {
      "cell_type": "markdown",
      "metadata": {
        "id": "PRqlPLcCoDOa"
      },
      "source": [
        "## Exercício Parte 5 - Múltiplos Empréstimos\n",
        "\n",
        "Considere que há múltiplos empréstimos que podem ser controlados em paralelo. A sua função `main` deve ser capaz de apresentar no console as parcelas de mais de um empréstimo de modo paralelo, mantendo um controle para cada empréstimo separadamente. Você deve decidir qual das soluções tomará como ponto de partida, se deve modificar a função `main`, a função `proximaParcela` ou ambas para atender esse requisito da melhor forma possível.\n",
        "\n",
        "Adote uma solução compacta e generalizável, de tal modo que, cada novo empréstimo só exija a informação dos parâmetros de partida, sem expansão do código.\n",
        "\n",
        "Por exemplo, suponha os seguintes dois empréstimos em paralelo:\n",
        "\n",
        "### Empréstimo 1\n",
        "* `S`: 200\n",
        "* `N`: 5\n",
        "* `J`: 1%\n",
        "\n",
        "### Empréstimo 2\n",
        "* `S`: 500\n",
        "* `N`: 7\n",
        "* `J`: 2%\n",
        "\n",
        "A saída esperada é:\n",
        "~~~\n",
        "Emprestimo 1: parcela 1 eh 200.00\n",
        "Emprestimo 2: parcela 1 eh 500.00\n",
        "Emprestimo 1: parcela 2 eh 202.00\n",
        "Emprestimo 2: parcela 2 eh 510.00\n",
        "Emprestimo 1: parcela 3 eh 204.02\n",
        "Emprestimo 2: parcela 3 eh 520.20\n",
        "Emprestimo 1: parcela 4 eh 206.06\n",
        "Emprestimo 2: parcela 4 eh 530.60\n",
        "Emprestimo 1: parcela 5 eh 208.12\n",
        "Emprestimo 2: parcela 5 eh 541.22\n",
        "Emprestimo 2: parcela 6 eh 552.04\n",
        "Emprestimo 2: parcela 7 eh 563.08\n",
        "~~~\n",
        "\n",
        "O exemplo mostra dois empréstimos, mas a estrutura deve ser genérica o suficiente para controlar N empréstimos em paralelo."
      ]
    },
    {
      "cell_type": "code",
      "metadata": {
        "colab": {
          "base_uri": "https://localhost:8080/",
          "height": 129
        },
        "id": "f47QtPJpoDOa",
        "outputId": "0afcea21-6d9e-4c06-a2bc-5fe3a7c5146c"
      },
      "source": [
        "#include <stdio.h>\n",
        "typedef struct\n",
        "{\n",
        "  int n;\n",
        "  float s;\n",
        "  float j;\n",
        "} caso;\n",
        "\n",
        "caso proximaParcela(caso legal)\n",
        "{\n",
        "  legal.s = legal.s +(legal.s*legal.j);\n",
        "  return legal;\n",
        "}\n",
        "caso setcaso(int parcelas, float valor, float juros)\n",
        "{\n",
        "  caso entrada;\n",
        "  entrada.n = parcelas;\n",
        "  entrada.s = valor;\n",
        "  entrada.j = juros/100;\n",
        "  return entrada;\n",
        "}\n",
        "int main()\n",
        "{\n",
        "  caso emprestimo1, emprestimo2;\n",
        "  emprestimo1 = setcaso(5,200,1);\n",
        "  emprestimo2 = setcaso(7,500,2);\n",
        "  int d = 0;\n",
        "  int k = 1;\n",
        "  while (k != 0)\n",
        "  {\n",
        "    d++;\n",
        "    k=0;\n",
        "    if (d <= emprestimo1.n) \n",
        "    {\n",
        "      printf(\"A parcela %d do emprestimo 1 é igaul a %f\\n\",d ,emprestimo1.s);\n",
        "      emprestimo1 = proximaParcela(emprestimo1);\n",
        "      k=1;\n",
        "    }\n",
        "    if (d <= emprestimo2.n) \n",
        "    {\n",
        "      printf(\"A parcela %d do emprestimo 2 é igaul a %f\\n\",d ,emprestimo2.s);\n",
        "      emprestimo2 = proximaParcela(emprestimo2);\n",
        "      k=1;\n",
        "    }\n",
        "  }\n",
        "}\n"
      ],
      "execution_count": 1,
      "outputs": [
        {
          "output_type": "error",
          "ename": "SyntaxError",
          "evalue": "ignored",
          "traceback": [
            "\u001b[0;36m  File \u001b[0;32m\"<ipython-input-1-d67d73bfc66c>\"\u001b[0;36m, line \u001b[0;32m2\u001b[0m\n\u001b[0;31m    typedef struct\u001b[0m\n\u001b[0m                 ^\u001b[0m\n\u001b[0;31mSyntaxError\u001b[0m\u001b[0;31m:\u001b[0m invalid syntax\n"
          ]
        }
      ]
    }
  ]
}
